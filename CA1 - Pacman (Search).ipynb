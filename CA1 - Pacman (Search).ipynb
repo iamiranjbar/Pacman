{
 "cells": [
  {
   "cell_type": "markdown",
   "metadata": {},
   "source": [
    "<img src=\"img/pacman.png\"/>"
   ]
  },
  {
   "cell_type": "markdown",
   "metadata": {},
   "source": [
    "# PACMAN (Search: BFS, IDS, A*)\n",
    "## Introdudtion\n",
    "Main goal of this project is to find solution for two pacman game with searching states space.<br> We read game map at first. Next, we define an initial states and by actions find next states deriving from this state. With checking this states, we find solution. <br> Our search algorithms are 1. BFS 2. IDS & 3. A*.\n",
    "### Reading data\n",
    "In below code section, __read_file_data__ open map file and read it line by line. It returns it's map in location 2D list."
   ]
  },
  {
   "cell_type": "code",
   "execution_count": 2,
   "metadata": {},
   "outputs": [],
   "source": [
    "def read_file_data(file_path):\n",
    "    location = []\n",
    "    with open(file_path) as file:\n",
    "        line = file.readline()\n",
    "        while line:\n",
    "            location.append(line)\n",
    "            line = file.readline()\n",
    "    return location[:][:-1]\n",
    "file_path = './testcases/test5'\n",
    "location = read_file_data(file_path)"
   ]
  },
  {
   "cell_type": "markdown",
   "metadata": {},
   "source": [
    "#### Helper functions\n",
    "+ __find_initial_values__ function find initial values (P location(i,j), Q location(i,j), Food types and location(as a map)) for creating initial state. <br>\n",
    "+ __distance_between__ function calculate manhatan distance between two points."
   ]
  },
  {
   "cell_type": "code",
   "execution_count": 3,
   "metadata": {},
   "outputs": [],
   "source": [
    "def find_initial_values(location):\n",
    "    foods = {}\n",
    "    i_p = 0\n",
    "    j_p = 0\n",
    "    i_q = 0\n",
    "    j_q = 0\n",
    "    for i in range(len(location)):\n",
    "        for j in range(len(location[0])):\n",
    "            if location[i][j] == '1' or location[i][j] == '2' or location[i][j] == '3':\n",
    "                foods[(i,j)] = location[i][j]\n",
    "            elif location[i][j] == 'P':\n",
    "                i_p = i\n",
    "                j_p = j\n",
    "            elif location[i][j] == 'Q':\n",
    "                i_q = i\n",
    "                j_q = j\n",
    "    return i_p, j_p, i_q, j_q, foods\n",
    "\n",
    "def distance_between(i_1, j_1, i_2, j_2):\n",
    "    return abs(i_2 - i_1) + abs(j_2 - j_1)"
   ]
  },
  {
   "cell_type": "markdown",
   "metadata": {},
   "source": [
    "### Map problem to a search problem\n",
    "Each state has 3 component:\n",
    "    1. Location of P\n",
    "    2. Location of Q\n",
    "    3. Location of foods: \n",
    "       A dictionary that maps food locations(i,j) to it's type. (Key: tuple of i,j , Value: Food type)\n",
    "#### Search components:\n",
    "##### Initial state:\n",
    "Get inital location of P and Q and foods from __get_initial_values__ function and create a node with this state. Set it's parent to _None_. It's cost is 0.\n",
    "##### Goal state:\n",
    "Goal state is state without any food. (Food dictionary got empty.)\n",
    "##### Actions:\n",
    "We should move P or Q in one of 4 dircetions.\n",
    "    (1,2,3,4) move p (R,U,L,D)\n",
    "    (5,6,7,8) move q (R,U,L,D)\n",
    "Actions definitions can be found in moces array.\n",
    "##### Transition model:\n",
    "Moving P or Q change their location by adding _moves_ array to their previous location. If their new location, consists their compatible food type (1,3 for P and 2,3 for Q) they eat food and food removed from foods dictionary. \n",
    "If new location has incompatible food type or has wall, new state is invalid and new node can't created.\n",
    "##### Path cost:\n",
    "Each move costs 1. We should arrive goal in the least moves. <br> _(The optimal solution is the sequence of actions that gives the lowest path cost for reaching the goal)_"
   ]
  },
  {
   "cell_type": "markdown",
   "metadata": {},
   "source": [
    "### State class:\n",
    "#### Fields: \n",
    "- P location (i,j)\n",
    "- Q location (i,j)\n",
    "- Food dictionary\n",
    "#### Methods:\n",
    "- is_goal: Check foods dictionary is empty or not. \n",
    "- get_next_states: Generate state that derives from this state. Walls and poison block creating new states.\n",
    "- h: Hueristic function estimates cost from this node to goal node.\n",
    "- hash: This function calculates hash of this state for checking equality of state.\n",
    "- show: This function gives a representation of state.\n",
    "\n",
    "### Node class:\n",
    "#### Fields:\n",
    "- State of node\n",
    "- Parent node of this node \n",
    "- Cost to reach this node\n",
    "#### Methods:\n",
    "- get_children: It gets next nodes of this node.\n",
    "- bfs_hash: Returns hash of state.\n",
    "- dfs_hash: Use for DFS. It adds cost to hash.\n",
    "- h: Cost from this node to goal node.\n",
    "- f: Path cost that includes this node.\n",
    "- lt: Use for comparing nodes in heap.\n",
    "- show: This function gives a representation of node."
   ]
  },
  {
   "cell_type": "code",
   "execution_count": 4,
   "metadata": {},
   "outputs": [],
   "source": [
    "moves = [(1,0), (0,1), (-1,0), (0,-1)]\n",
    "\n",
    "class State:\n",
    "    def __init__(self, i_p, j_p, i_q, j_q, foods):\n",
    "        self.i_p = i_p\n",
    "        self.j_p = j_p\n",
    "        self.i_q = i_q\n",
    "        self.j_q = j_q\n",
    "        self.foods = foods\n",
    "    \n",
    "    def is_goal(self):\n",
    "        return not self.foods\n",
    "    \n",
    "    def get_next_states(self, location):\n",
    "        next_states = []\n",
    "        for move in moves:\n",
    "            # P Move\n",
    "            next_i_p = self.i_p + move[0]\n",
    "            next_j_p = self.j_p + move[1]\n",
    "            if next_i_p < 0 or next_i_p >= len(location) or next_j_p < 0 or next_j_p >= len(location[0]):\n",
    "                continue\n",
    "            if location[next_i_p][next_j_p] == '%' or \\\n",
    "               ((next_i_p,next_j_p) in self.foods and self.foods[(next_i_p,next_j_p)] == '2') or \\\n",
    "               location[next_i_p][next_j_p] == 'Q':\n",
    "                continue\n",
    "            next_foods = self.foods.copy()\n",
    "            if (next_i_p,next_j_p) in self.foods and \\\n",
    "                (self.foods[(next_i_p,next_j_p)] == '1' or (self.foods[(next_i_p,next_j_p)] == '3')):\n",
    "                del next_foods[(next_i_p,next_j_p)]\n",
    "            next_states.append(State(next_i_p, next_j_p, self.i_q, self.j_q, next_foods))\n",
    "        for move in moves:\n",
    "            # Q Move\n",
    "            next_i_q = self.i_q + move[0]\n",
    "            next_j_q = self.j_q + move[1]\n",
    "            if next_i_q < 0 or next_i_q >= len(location) or next_j_q < 0 or next_j_q >= len(location[0]):\n",
    "                continue\n",
    "            if location[next_i_q][next_j_q] == '%' or \\\n",
    "               ((next_i_q,next_j_q) in self.foods and self.foods[(next_i_q,next_j_q)] == '1') or \\\n",
    "               location[next_i_p][next_j_p] == 'Q':\n",
    "                continue\n",
    "            next_foods = self.foods.copy()\n",
    "            if (next_i_q,next_j_q) in self.foods and \\\n",
    "               (self.foods[(next_i_q,next_j_q)] == '2' or self.foods[(next_i_q,next_j_q)] == '3'):\n",
    "                del next_foods[(next_i_q,next_j_q)]\n",
    "            next_states.append(State(self.i_p, self.j_p, next_i_q, next_j_q, next_foods))\n",
    "        return next_states\n",
    "    \n",
    "#     def h(self):\n",
    "#         return len(self.foods)\n",
    "    \n",
    "#     def h(self):\n",
    "#         distances = []\n",
    "#         for food_loc, food_type in self.foods.items():\n",
    "#             if food_type == '1' or food_type == '3':\n",
    "#                 distances.append(distance_between(food_loc[0], food_loc[1], self.i_p, self.j_p))\n",
    "#             if food_type == '2' or food_type == '3':\n",
    "#                 distances.append(distance_between(food_loc[0], food_loc[1], self.i_q, self.j_q))\n",
    "#         if not distances:\n",
    "#             return 0\n",
    "#         return min(distances)\n",
    "            \n",
    "    def h(self):\n",
    "        distances = []\n",
    "        for food_loc, food_type in self.foods.items():\n",
    "            if food_type == '1':\n",
    "                distances.append(distance_between(food_loc[0], food_loc[1], self.i_p, self.j_p))\n",
    "            if food_type == '2':\n",
    "                distances.append(distance_between(food_loc[0], food_loc[1], self.i_q, self.j_q))\n",
    "            if food_type == '3':\n",
    "                min_dist = distance_between(food_loc[0], food_loc[1], self.i_p, self.j_p)\n",
    "                other_dist = distance_between(food_loc[0], food_loc[1], self.i_q, self.j_q)\n",
    "                if other_dist < min_dist:\n",
    "                    min_dist = other_dist\n",
    "                distances.append(min_dist)\n",
    "        if not distances:\n",
    "            return 0\n",
    "        return sum(distances)\n",
    "    \n",
    "    def __hash__(self):\n",
    "        return hash((self.i_p, self.j_p, self.i_q, self.j_q, hash(frozenset(self.foods))))\n",
    "\n",
    "    def show(self):\n",
    "        print(\"P: \", self.i_p, self.j_p)\n",
    "        print(\"Q: \", self.i_q, self.j_q)\n",
    "        print(\"Foods: \", self.foods)\n",
    "                \n",
    "class Node:\n",
    "    def __init__(self, state, parent=None, cost=0):\n",
    "        self.state = state\n",
    "        self.parent = parent\n",
    "        self.cost = cost\n",
    "        \n",
    "    def get_children(self, location):\n",
    "        return [Node(state, self, self.cost+1) for state in self.state.get_next_states(location)]\n",
    "    \n",
    "    def bfs_hash(self):\n",
    "        return hash(self.state)\n",
    "    \n",
    "    def dfs_hash(self):\n",
    "        return hash((self.state.i_p, self.state.j_p, self.state.i_q, self.state.j_q, \n",
    "                     hash(frozenset(self.state.foods)), self.cost))\n",
    "    \n",
    "    def h(self):\n",
    "        return self.state.h()\n",
    "    \n",
    "    def f(self):\n",
    "        return self.h() + self.cost\n",
    "    \n",
    "    def __lt__(self, other):\n",
    "        if self.f() < other.f() or self.h() < other.h() or self.cost < other.cost:\n",
    "            return True\n",
    "        else:\n",
    "            return False\n",
    "    \n",
    "    def show(self):\n",
    "        self.state.show()\n",
    "#         if self.parent:\n",
    "#             print(\"parent: \")\n",
    "#             self.parent.show()\n",
    "        print(\"Cost: \", self.cost)\n",
    "        print(\"************\")"
   ]
  },
  {
   "cell_type": "markdown",
   "metadata": {},
   "source": [
    "## BFS search:\n",
    "It traverses nodes level by level. It implements by a FIFO list. We don't see nodes that viewed or in frontier list again.<br>\n",
    "We check is_goal when we want to add node to frontier. It helps to find solution much faster. It finds optimal solution because we tracerse nodes level by level."
   ]
  },
  {
   "cell_type": "code",
   "execution_count": 5,
   "metadata": {
    "scrolled": true
   },
   "outputs": [
    {
     "name": "stdout",
     "output_type": "stream",
     "text": [
      "P:  6 1\n",
      "Q:  5 4\n",
      "Foods:  {}\n",
      "Cost:  13\n",
      "************\n"
     ]
    }
   ],
   "source": [
    "from time import time\n",
    "\n",
    "def bfs(location):\n",
    "#     start = time()\n",
    "#     all_states = 1\n",
    "#     diff_states = 1\n",
    "    frontier = []\n",
    "    frontier_hashes = set()\n",
    "    explored_hashes = set()\n",
    "    initial_state = State(*find_initial_values(location))\n",
    "    initial_node = Node(initial_state)\n",
    "    if initial_state.is_goal():\n",
    "        return initial_node\n",
    "    frontier.append(initial_node)\n",
    "    frontier_hashes.add(initial_node.bfs_hash())\n",
    "    while True:\n",
    "        if not frontier:\n",
    "#             print(time()-start)\n",
    "            return None # Failure\n",
    "        node = frontier.pop(0)\n",
    "        explored_hashes.add(node.bfs_hash())\n",
    "        for child in node.get_children(location):\n",
    "#             all_states += 1\n",
    "            if child.bfs_hash() in frontier_hashes or child.bfs_hash() in explored_hashes:\n",
    "                continue\n",
    "#             diff_states += 1\n",
    "            if child.state.is_goal():\n",
    "#                 print(time()-start)\n",
    "#                 print(\"All states: \", all_states)\n",
    "#                 print(\"Diffrent states: \", diff_states)\n",
    "                return child # Can return path to root\n",
    "            frontier.append(child)\n",
    "            frontier_hashes.add(child.bfs_hash())\n",
    "\n",
    "solution = bfs(location)\n",
    "if solution:\n",
    "    solution.show()\n",
    "else:\n",
    "    print(\"Solution does not exists!\")"
   ]
  },
  {
   "cell_type": "markdown",
   "metadata": {},
   "source": [
    "### IDS Search:\n",
    "It traverses nodes in depth. DFS doesn't calculate optimal path but in IDS, we use DFS subroutine in different depths. If depth of node (cost) reach desired depth, We don't add it to frontier list. In IDS we should check is_goal when we expand a node. If we don't find solution in a depth(None result), we increase depth. It checks visited and frontier nodes and don't add existed nodes. For node equallity, it checks cost too. Because it may reach to one node on different costs and can produce less cost paths. <br>\n",
    "__dfs_with__ function performs DFS subroutine. <br>\n",
    "__ids__ function is ids core functionality. It iterates over diffrent depth and run dfs subroutine."
   ]
  },
  {
   "cell_type": "code",
   "execution_count": 7,
   "metadata": {},
   "outputs": [],
   "source": [
    "def dfs_with(depth):\n",
    "    initial_state = State(*find_initial_values(location))\n",
    "    initial_node = Node(initial_state)\n",
    "    frontier = [initial_node]\n",
    "    frontier_hashes = {hash(initial_state)}\n",
    "    visited_hashes = set()\n",
    "#     all_states = 1\n",
    "#     diff_states = 1\n",
    "    while True:\n",
    "        if not frontier:\n",
    "            return None\n",
    "        node = frontier.pop()\n",
    "        if node.state.is_goal():\n",
    "            return node\n",
    "        visited_hashes.add(node.dfs_hash())\n",
    "        for child in node.get_children(location):\n",
    "#             all_states += 1\n",
    "            if child.dfs_hash() in frontier_hashes or child.dfs_hash() in visited_hashes or depth < child.cost:\n",
    "                continue\n",
    "#             diff_states += 1\n",
    "            frontier.append(child)\n",
    "            frontier_hashes.add(child.dfs_hash())"
   ]
  },
  {
   "cell_type": "code",
   "execution_count": 8,
   "metadata": {},
   "outputs": [
    {
     "name": "stdout",
     "output_type": "stream",
     "text": [
      "P:  6 3\n",
      "Q:  5 4\n",
      "Foods:  {}\n",
      "Cost:  13\n",
      "************\n"
     ]
    }
   ],
   "source": [
    "from time import time\n",
    "\n",
    "def ids(location):\n",
    "    start = time()\n",
    "#     all_states = 0\n",
    "#     diff_states = 0\n",
    "    depth = 0\n",
    "    while True:\n",
    "        result = dfs_with(depth)\n",
    "#         all_states += all_s\n",
    "#         diff_states += diff_s\n",
    "        if result:\n",
    "#             print(time()-start)\n",
    "#             print(\"All states: \", all_states)\n",
    "#             print(\"Diffrent states: \", diff_states)\n",
    "            return result\n",
    "        depth += 1\n",
    "#         print(depth)\n",
    "#     print(time()-start)\n",
    "#     print(\"All states: \", all_states)\n",
    "#     print(\"Diffrent states: \", diff_states)\n",
    "    return None\n",
    "\n",
    "solution = ids(location)\n",
    "if solution:\n",
    "    solution.show()\n",
    "else:\n",
    "    print(\"Solution does not exists!\")"
   ]
  },
  {
   "cell_type": "markdown",
   "metadata": {},
   "source": [
    "## A* Search:\n",
    "In this algorithm, we choose the most promising node. (The node that consider to be best choice for rest of the path to goal. We estimate that final path includes this node.)\n",
    "For implementing this algorihtm, we have frontier nodes heap to pickup the least cost node. I choose heap because we need to get minimum value in each step and heap is the most fit data structure with this need. Each get minimum values costs O(logn) in time.\n",
    "In each iteration, We pop the least cost node and after checking that it's goal, we add it's children to our heap. We don't check frontier nodes because we need to update heap values and it costs. We add the node again with less cost and because it's search cost in order logn it's more efficient for us.\n",
    "#### Least cost node: \n",
    "- We have cost for each node. The cost that we consumed to get to this node. (g(n))\n",
    "- h(n) (Hueristic function) estimates cost from this node to goal node. It's admissible if estimated value for each node is less than it's real cost. I suggest three hueristics:\n",
    "    1. Number of remaining foods : It's admissible because we need one action for each food at least. It calculated in O(1).\n",
    "    2. Manhatan distance of the closest food to agents: We find closest food to agents. The more close food is, Agent reach to it's solution faster. It's admissible because agents should eat many foods and by eating one food we don't reach to our goal. It calculated in O(# of foods).\n",
    "    3. Sum of manhatan distance of all foods to agents: Agents should eat all foods. This measure can't be proven to be admissible but it prones state space very much and our algorithm comes to it's solution very fast. In many example because of walls and poisons it gets admissible. It calculated in O(# of foods).\n",
    "- This hueristics are almost admissible so they're optimal."
   ]
  },
  {
   "cell_type": "code",
   "execution_count": 9,
   "metadata": {},
   "outputs": [
    {
     "name": "stdout",
     "output_type": "stream",
     "text": [
      "P:  6 1\n",
      "Q:  5 4\n",
      "Foods:  {}\n",
      "Cost:  13\n",
      "************\n"
     ]
    }
   ],
   "source": [
    "from time import time\n",
    "from heapq import heappush, heappop\n",
    "\n",
    "def a_star(location):\n",
    "#     start = time()\n",
    "#     all_states = 1\n",
    "#     diff_states = 1\n",
    "    frontier = []\n",
    "    visited_hashes = set()\n",
    "    initial_state = State(*find_initial_values(location))\n",
    "    initial_node = Node(initial_state)\n",
    "    heappush(frontier, (initial_node.f(), initial_node))\n",
    "    while True:\n",
    "        if not frontier:\n",
    "#             end = time()\n",
    "#             print(end - start)\n",
    "#             print(\"All states: \", all_states)\n",
    "#             print(\"Diffrent states: \", diff_states)\n",
    "            return None\n",
    "        node = heappop(frontier)[1]\n",
    "        if node.state.is_goal():\n",
    "#             end = time()\n",
    "#             print(end - start)\n",
    "#             print(\"All states: \", all_states)\n",
    "#             print(\"Diffrent states: \", diff_states)\n",
    "            return node\n",
    "        visited_hashes.add(node.bfs_hash())\n",
    "        for child in node.get_children(location):\n",
    "#             all_states += 1\n",
    "            if child.bfs_hash() in visited_hashes:\n",
    "                continue\n",
    "#             diff_states += 1\n",
    "            heappush(frontier, (child.f(), child))\n",
    "\n",
    "solution = a_star(location)\n",
    "if solution:\n",
    "    solution.show()\n",
    "else:\n",
    "    print(\"Solution does not exists!\")"
   ]
  },
  {
   "cell_type": "markdown",
   "metadata": {},
   "source": [
    "## Differences & Advantages\n",
    "### Completness and optimality\n",
    "All of this algorithms are complete and optimal. \n",
    "### Time complexity\n",
    "BFS runs in O($ b^d $) where d is depth of solution. <br>\n",
    "IDS runs in O($ b^d $) too but it's a bit slower than BFS because it runs DFS sunbroutines many times. <br>\n",
    "A* runs in O(# of nodes that f(n) < reak min cost). It prunes search space much more than BFS and IDS with good hueristic function. So it maybe has less time cost than IDS and BFS. IDS and BFS doesn't prune state space and grow in all directions.\n",
    "### Space Complexity\n",
    "BFS gets O($ b^d $) space because it saves all the visited and frontier nodes till goal node. <br>\n",
    "IDS gets O($ bd $) space because it just saves frontier nodes for one branch. IDS inherits good time complexity from bfs and good space complexity from dfs.<br>\n",
    "A* get exponential space. (It gets O(# of nodes that f(n) < reak min cost) space.) <br>\n",
    "So winner of this part is __IDS__."
   ]
  },
  {
   "cell_type": "markdown",
   "metadata": {},
   "source": [
    "## Benchmark Table\n",
    "- For each test and algorithm, I run my code three times and get average from them. <br>\n",
    "- You can see best moves number in goal depth column and our moves number in Diffrent visited states "
   ]
  },
  {
   "cell_type": "markdown",
   "metadata": {},
   "source": [
    "<img src=\"img/benchmark.png\">"
   ]
  },
  {
   "cell_type": "markdown",
   "metadata": {},
   "source": [
    "## Execution time vs Goal depth plot for each algorithm"
   ]
  },
  {
   "cell_type": "markdown",
   "metadata": {},
   "source": [
    "<img src=\"img/BFS.png\">"
   ]
  },
  {
   "cell_type": "markdown",
   "metadata": {},
   "source": [
    "<img src=\"img/IDS.png\">"
   ]
  },
  {
   "cell_type": "markdown",
   "metadata": {},
   "source": [
    "<img src=\"img/AStar.png\">"
   ]
  }
 ],
 "metadata": {
  "kernelspec": {
   "display_name": "Python 3",
   "language": "python",
   "name": "python3"
  },
  "language_info": {
   "codemirror_mode": {
    "name": "ipython",
    "version": 3
   },
   "file_extension": ".py",
   "mimetype": "text/x-python",
   "name": "python",
   "nbconvert_exporter": "python",
   "pygments_lexer": "ipython3",
   "version": "3.7.3"
  }
 },
 "nbformat": 4,
 "nbformat_minor": 2
}
